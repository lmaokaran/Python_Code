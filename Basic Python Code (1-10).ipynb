{
 "cells": [
  {
   "cell_type": "markdown",
   "metadata": {},
   "source": [
    "### write a program to print hello world\n",
    " "
   ]
  },
  {
   "cell_type": "code",
   "execution_count": 1,
   "metadata": {},
   "outputs": [
    {
     "name": "stdout",
     "output_type": "stream",
     "text": [
      "hello world\n"
     ]
    }
   ],
   "source": [
    "print(\"hello world\")"
   ]
  },
  {
   "cell_type": "markdown",
   "metadata": {},
   "source": [
    "###  write a program to find the sum of two numbers"
   ]
  },
  {
   "cell_type": "code",
   "execution_count": 3,
   "metadata": {},
   "outputs": [
    {
     "name": "stdout",
     "output_type": "stream",
     "text": [
      "sum of first and second :  97.0\n"
     ]
    }
   ],
   "source": [
    "firstnumber = float(input(\"enter your first number : \"))\n",
    "secondnumber = float(input(\"enter your second number: \"))\n",
    "sum = firstnumber + secondnumber\n",
    "print(\"sum of first and second : \",sum)"
   ]
  },
  {
   "cell_type": "markdown",
   "metadata": {},
   "source": [
    "### write a program to divide two numbers"
   ]
  },
  {
   "cell_type": "code",
   "execution_count": 6,
   "metadata": {},
   "outputs": [
    {
     "name": "stdout",
     "output_type": "stream",
     "text": [
      "divison of firstnumber and secondnumber : 19.0\n"
     ]
    }
   ],
   "source": [
    "firstnumber = float(input(\"enter your first number : \"))\n",
    "secondnumber=float(input(\"enter your second number: \"))\n",
    "div = firstnumber / secondnumber\n",
    "print (\"divison of firstnumber and secondnumber :\", div)"
   ]
  },
  {
   "cell_type": "markdown",
   "metadata": {},
   "source": [
    "### Write a program to find the area of triangle:"
   ]
  },
  {
   "cell_type": "code",
   "execution_count": 7,
   "metadata": {},
   "outputs": [
    {
     "name": "stdout",
     "output_type": "stream",
     "text": [
      "area of the triangle:  22.5\n"
     ]
    }
   ],
   "source": [
    "base = float(input(\"enter the value of base: \"))\n",
    "height = float(input(\"enter the value of height: \"))\n",
    "area = 1/2*base*height\n",
    "print(\"area of the triangle: \",area)"
   ]
  },
  {
   "cell_type": "markdown",
   "metadata": {},
   "source": [
    "### write a program to swap two variables using third variable"
   ]
  },
  {
   "cell_type": "code",
   "execution_count": 13,
   "metadata": {},
   "outputs": [
    {
     "name": "stdout",
     "output_type": "stream",
     "text": [
      "swapped numbers are : variable1: 2.0 \n",
      " variable2: 1.0\n"
     ]
    }
   ],
   "source": [
    "variable1 = float(input(\"enter your variable1: \"))\n",
    "variable2 = float(input(\"enter your variable2: \"))\n",
    "temp = variable1\n",
    "variable1 = variable2\n",
    "variable2 = temp\n",
    "print(\"swapped numbers are :\",\"variable1:\",variable1,\"\\n\", \"variable2:\", variable2)"
   ]
  },
  {
   "cell_type": "markdown",
   "metadata": {},
   "source": [
    "### write a program to swap two variable without using third variable"
   ]
  },
  {
   "cell_type": "code",
   "execution_count": 14,
   "metadata": {},
   "outputs": [
    {
     "name": "stdout",
     "output_type": "stream",
     "text": [
      "swapped numbers are : variable1: 2.0 \n",
      " variable2: 1.0\n"
     ]
    }
   ],
   "source": [
    "v1 = float(input(\"enter your variable1: \"))\n",
    "v2 = float(input(\"enter your variable2: \"))\n",
    "v1, v2= v2, v1\n",
    "print(\"swapped numbers are :\",\"variable1:\",v1,\"\\n\", \"variable2:\", v2)\n"
   ]
  },
  {
   "cell_type": "markdown",
   "metadata": {},
   "source": [
    "### write a program to generate a random number\n"
   ]
  },
  {
   "cell_type": "code",
   "execution_count": 8,
   "metadata": {},
   "outputs": [
    {
     "name": "stdout",
     "output_type": "stream",
     "text": [
      "random number: 62\n"
     ]
    }
   ],
   "source": [
    "import random\n",
    "print(f\"random number: {random.randint(1,100)}\")"
   ]
  },
  {
   "cell_type": "markdown",
   "metadata": {},
   "source": [
    "### write a program to convert km to miles\n",
    "\n"
   ]
  },
  {
   "cell_type": "code",
   "execution_count": 18,
   "metadata": {},
   "outputs": [
    {
     "name": "stdout",
     "output_type": "stream",
     "text": [
      "kilometer to miles will be:  34.79678664\n"
     ]
    }
   ],
   "source": [
    "km = float(input(\"enter your kilometer value: \"))\n",
    "miles = km * 0.62137119\n",
    "print(\"kilometer to miles will be: \", miles)"
   ]
  },
  {
   "cell_type": "markdown",
   "metadata": {},
   "source": [
    "### write a program to display calendar"
   ]
  },
  {
   "cell_type": "code",
   "execution_count": 21,
   "metadata": {},
   "outputs": [
    {
     "name": "stdout",
     "output_type": "stream",
     "text": [
      "     July 2006\n",
      "Mo Tu We Th Fr Sa Su\n",
      "                1  2\n",
      " 3  4  5  6  7  8  9\n",
      "10 11 12 13 14 15 16\n",
      "17 18 19 20 21 22 23\n",
      "24 25 26 27 28 29 30\n",
      "31\n",
      "\n"
     ]
    }
   ],
   "source": [
    "import calendar\n",
    "year = int(input(\"enter your year\"))\n",
    "month = int(input(\"enter your month\"))\n",
    "cal =(calendar.month (year , month))\n",
    "print(cal)"
   ]
  }
 ],
 "metadata": {
  "kernelspec": {
   "display_name": "Python 3",
   "language": "python",
   "name": "python3"
  },
  "language_info": {
   "codemirror_mode": {
    "name": "ipython",
    "version": 3
   },
   "file_extension": ".py",
   "mimetype": "text/x-python",
   "name": "python",
   "nbconvert_exporter": "python",
   "pygments_lexer": "ipython3",
   "version": "3.12.1"
  }
 },
 "nbformat": 4,
 "nbformat_minor": 2
}
